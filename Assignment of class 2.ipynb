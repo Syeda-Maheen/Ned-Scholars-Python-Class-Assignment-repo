{
 "cells": [
  {
   "cell_type": "markdown",
   "metadata": {},
   "source": [
    "1. Write a Python program to get a single string from two given strings, separated by a space and swap the first two characters of each string.\n"
   ]
  },
  {
   "cell_type": "code",
   "execution_count": 1,
   "metadata": {},
   "outputs": [
    {
     "name": "stdout",
     "output_type": "stream",
     "text": [
      "Syeda Maheen\n"
     ]
    }
   ],
   "source": [
    "First_Name = \"Syeda\"\n",
    "Last_Name = \"Maheen\"\n",
    "Full_Name = First_Name + \" \" + Last_Name\n",
    "print(Full_Name)"
   ]
  },
  {
   "cell_type": "code",
   "execution_count": 2,
   "metadata": {},
   "outputs": [
    {
     "name": "stdout",
     "output_type": "stream",
     "text": [
      "First name after replacing first word is Myeda\n",
      "Last name after replacing first word is Saheen\n"
     ]
    }
   ],
   "source": [
    "First = Last_Name[0] + First_Name[1:]\n",
    "Last = First_Name[0] + Last_Name[1:]\n",
    "print(\"First name after replacing first word is\",First)\n",
    "print(\"Last name after replacing first word is\",Last)"
   ]
  },
  {
   "attachments": {},
   "cell_type": "markdown",
   "metadata": {},
   "source": [
    "2. Write a Python program to get a string from a given string where all occurrences of its first char have been changed to dollar sign , except the first char itself.\n",
    "Sample String : 'restart'\n",
    "Expected Result : 'resta$t’\n"
   ]
  },
  {
   "cell_type": "code",
   "execution_count": 3,
   "metadata": {},
   "outputs": [],
   "source": [
    "String = \"Stay home and stay save\"\n",
    "variable_to_be_changed = String[0].lower()\n",
    "j = 1\n",
    "Reultant_String = \"\"\n",
    "for i in String.lower():\n",
    "    if j <= len(String): \n",
    "        if i == variable_to_be_changed and j!=1:\n",
    "            Reultant_String = Reultant_String + \"$\"\n",
    "        else:\n",
    "            Reultant_String = Reultant_String + String[j-1]\n",
    "        j += 1\n",
    "        \n",
    "    \n",
    "    "
   ]
  },
  {
   "cell_type": "code",
   "execution_count": 4,
   "metadata": {},
   "outputs": [
    {
     "name": "stdout",
     "output_type": "stream",
     "text": [
      "Stay home and stay save\n",
      "Stay home and $tay $ave\n"
     ]
    }
   ],
   "source": [
    "print(String)\n",
    "print(Reultant_String)"
   ]
  },
  {
   "cell_type": "markdown",
   "metadata": {},
   "source": [
    "3. Given a string and an integer number n, remove characters from a string starting from zero up to n and return a new string\n"
   ]
  },
  {
   "cell_type": "code",
   "execution_count": 5,
   "metadata": {},
   "outputs": [
    {
     "name": "stdout",
     "output_type": "stream",
     "text": [
      "sample string =  My Name is Maheen\n",
      "resultant_string =  y Name is Maheen\n",
      "resultant_string =   Name is Maheen\n",
      "resultant_string =  Name is Maheen\n",
      "resultant_string =  ame is Maheen\n",
      "resultant_string =  me is Maheen\n",
      "resultant_string =  e is Maheen\n",
      "resultant_string =   is Maheen\n",
      "resultant_string =  is Maheen\n"
     ]
    }
   ],
   "source": [
    "sample_string = \"My Name is Maheen\"\n",
    "print(\"sample string = \",sample_string)\n",
    "sample_int = 8\n",
    "for i in range(sample_int):\n",
    "    resultant_string = sample_string[i+1:]\n",
    "    print(\"resultant_string = \",resultant_string)\n",
    "  "
   ]
  },
  {
   "cell_type": "markdown",
   "metadata": {},
   "source": [
    "4. Write a Python program to add 'ing' at the end of a given string (length should be at least 3). If the given string is already ends with 'ing' then add 'ly' instead. If the string length of the given string is less than 3, leave it unchanged. \u000b",
    "Sample String : 'abc'\u000b",
    "Expected Result : 'abcing'\u000b",
    "Sample String : 'string'\u000b",
    "Expected Result : 'stringly’\n"
   ]
  },
  {
   "cell_type": "code",
   "execution_count": 15,
   "metadata": {},
   "outputs": [
    {
     "data": {
      "text/plain": [
       "'jpgding'"
      ]
     },
     "execution_count": 15,
     "metadata": {},
     "output_type": "execute_result"
    }
   ],
   "source": [
    "sample_string = \"jpgd\"\n",
    "if len(sample_string) >= 3:\n",
    "    resultant_string = sample_string + \"ing\"\n",
    "else:\n",
    "    resultant_string = sample_string\n",
    "resultant_string "
   ]
  },
  {
   "cell_type": "code",
   "execution_count": 14,
   "metadata": {},
   "outputs": [
    {
     "data": {
      "text/plain": [
       "'pg'"
      ]
     },
     "execution_count": 14,
     "metadata": {},
     "output_type": "execute_result"
    }
   ],
   "source": [
    "sample_string = \"pg\"\n",
    "if len(sample_string) >= 3:\n",
    "    Expected_string = sample_string + \"ly\"\n",
    "else:\n",
    "    Expected_string = sample_string\n",
    "Expected_string "
   ]
  },
  {
   "cell_type": "code",
   "execution_count": null,
   "metadata": {},
   "outputs": [],
   "source": []
  }
 ],
 "metadata": {
  "kernelspec": {
   "display_name": "Python 3",
   "language": "python",
   "name": "python3"
  },
  "language_info": {
   "codemirror_mode": {
    "name": "ipython",
    "version": 3
   },
   "file_extension": ".py",
   "mimetype": "text/x-python",
   "name": "python",
   "nbconvert_exporter": "python",
   "pygments_lexer": "ipython3",
   "version": "3.7.4"
  }
 },
 "nbformat": 4,
 "nbformat_minor": 2
}
