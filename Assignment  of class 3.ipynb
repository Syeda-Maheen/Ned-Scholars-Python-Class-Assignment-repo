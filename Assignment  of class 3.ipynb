{
 "cells": [
  {
   "cell_type": "markdown",
   "metadata": {},
   "source": [
    "1. Write a Python program to count the number of even and odd numbers from a series of numbers.\n"
   ]
  },
  {
   "cell_type": "code",
   "execution_count": 7,
   "metadata": {},
   "outputs": [
    {
     "data": {
      "text/plain": [
       "[1, 2, 3, 4, 5, 6, 7, 8, 9, 10, 11, 12, 13, 14, 15, 16, 17, 18, 19, 20]"
      ]
     },
     "execution_count": 7,
     "metadata": {},
     "output_type": "execute_result"
    }
   ],
   "source": [
    "Natural_Numbers = list(range(1,21))\n",
    "Natural_Numbers"
   ]
  },
  {
   "cell_type": "code",
   "execution_count": 32,
   "metadata": {},
   "outputs": [],
   "source": [
    "count_even_numbers = 0\n",
    "count_odd_numbers = 0\n",
    "for i in Natural_Numbers:\n",
    "    if Natural_Numbers[i-1]%2 == 0:\n",
    "        count_even_numbers += 1\n",
    "    else:\n",
    "        count_odd_numbers += 1"
   ]
  },
  {
   "cell_type": "code",
   "execution_count": 33,
   "metadata": {},
   "outputs": [
    {
     "name": "stdout",
     "output_type": "stream",
     "text": [
      "Total even numbers in the list are 10\n",
      "Total odd numbers in the list are 10\n"
     ]
    }
   ],
   "source": [
    "print(\"Total even numbers in the list are\",count_even_numbers)\n",
    "print(\"Total odd numbers in the list are\",count_odd_numbers)"
   ]
  },
  {
   "cell_type": "markdown",
   "metadata": {},
   "source": [
    "2. Write a Python program which iterates the integers from 1 to 50. For multiples of three print \"Fizz\" instead of the number and for the multiples of five print \"Buzz\". For numbers which are multiples of both three and five print \"FizzBuzz\".\u000b",
    "Sample Output :\u000b",
    "fizzbuzz\u000b",
    "1\u000b",
    "2\u000b",
    "fizz\u000b",
    "4\u000b",
    "buzz"
   ]
  },
  {
   "cell_type": "code",
   "execution_count": 36,
   "metadata": {},
   "outputs": [
    {
     "name": "stdout",
     "output_type": "stream",
     "text": [
      "1\n",
      "2\n",
      "Fizz\n",
      "4\n",
      "Buzz\n",
      "Fizz\n",
      "7\n",
      "8\n",
      "Fizz\n",
      "Buzz\n",
      "11\n",
      "Fizz\n",
      "13\n",
      "14\n",
      "FizzBuzz\n",
      "16\n",
      "17\n",
      "Fizz\n",
      "19\n",
      "Buzz\n",
      "Fizz\n",
      "22\n",
      "23\n",
      "Fizz\n",
      "Buzz\n",
      "26\n",
      "Fizz\n",
      "28\n",
      "29\n",
      "FizzBuzz\n",
      "31\n",
      "32\n",
      "Fizz\n",
      "34\n",
      "Buzz\n",
      "Fizz\n",
      "37\n",
      "38\n",
      "Fizz\n",
      "Buzz\n",
      "41\n",
      "Fizz\n",
      "43\n",
      "44\n",
      "FizzBuzz\n",
      "46\n",
      "47\n",
      "Fizz\n",
      "49\n",
      "Buzz\n"
     ]
    }
   ],
   "source": [
    "for generator in range(1,51):\n",
    "    if generator%3 == 0 and generator % 5 != 0:\n",
    "        print(\"Fizz\")\n",
    "    elif generator%5 == 0 and generator % 3 != 0:\n",
    "        print(\"Buzz\")\n",
    "    elif generator % 3 == 0 and generator % 5 == 0:\n",
    "        print(\"FizzBuzz\")\n",
    "    else:\n",
    "        print(generator)"
   ]
  },
  {
   "cell_type": "markdown",
   "metadata": {},
   "source": [
    "3. Write a Python program that accepts a sequence of lines (blank line to terminate) as input and prints the lines as output (all characters in lower case)."
   ]
  },
  {
   "cell_type": "code",
   "execution_count": 40,
   "metadata": {},
   "outputs": [
    {
     "name": "stdout",
     "output_type": "stream",
     "text": [
      "Enter text:Write a Python program that accepts a sequence of lines (blank line to terminate) as input and prints the lines as output (all characters in lower case).Write a Python program that accepts a sequence of lines (blank line to terminate) as input and prints the lines as output (all characters in lower case).\n",
      "input lines are: write a python program that accepts a sequence of lines (blank line to terminate) as input and prints the lines as output (all characters in lower case).write a python program that accepts a sequence of lines (blank line to terminate) as input and prints the lines as output (all characters in lower case).\n"
     ]
    }
   ],
   "source": [
    "input_lines = input(\"Enter text:\")\n",
    "print(\"input lines are:\",input_lines.lower())"
   ]
  },
  {
   "cell_type": "markdown",
   "metadata": {},
   "source": [
    "Given a two list. Create a third list by picking an odd-index element from the first list and even index elements from second.\n",
    "Sample input: \n",
    "listOne = [3, 6, 9, 12, 15, 18, 21]\n",
    "listTwo = [4, 8, 12, 16, 20, 24, 28]\n",
    "Sample output:\n",
    "     [6, 12, 18, 4, 12, 20, 28]\n"
   ]
  },
  {
   "cell_type": "code",
   "execution_count": 42,
   "metadata": {},
   "outputs": [
    {
     "name": "stdout",
     "output_type": "stream",
     "text": [
      "Output list is [4, 6, 12, 12, 20, 18, 28]\n"
     ]
    }
   ],
   "source": [
    "listOne = [3, 6, 9, 12, 15, 18, 21] \n",
    "listTwo = [4, 8, 12, 16, 20, 24, 28]\n",
    "Output_list = []\n",
    "for i in range(max(len(listOne),len(listTwo))):\n",
    "    if i % 2 == 0:\n",
    "        Output_list.append(listTwo[i])\n",
    "    else:\n",
    "        Output_list.append(listOne[i])\n",
    "print(\"Output list is\",Output_list)"
   ]
  },
  {
   "cell_type": "markdown",
   "metadata": {},
   "source": [
    "input = [ clean , paint , eat , enjoy , aspire , string],                 \n",
    "expected output = { a :[aspire , aspireing] , b : [clean , cleaning] , s : [string,stringly] , and so on}"
   ]
  },
  {
   "cell_type": "code",
   "execution_count": 52,
   "metadata": {},
   "outputs": [],
   "source": [
    "input_list = [ \"clean\" , \"paint\" , \"eat\" , \"enjoy\" , \"aspire\" , \"string\"]\n",
    "dic_values = []\n",
    "for a in input_list:\n",
    "    if a[-3:] != \"ing\":\n",
    "        dic_values.append(a)\n",
    "        a = a + \"ing\"\n",
    "        dic_values.append(a)\n",
    "    else:\n",
    "        dic_values.append(a)\n",
    "        a = a + \"ly\"\n",
    "        dic_values.append(a)\n",
    "\n",
    "dic_key = []\n",
    "for a in input_list:\n",
    "    dic_key.append(a[0])\n",
    "dic_keys = tuple(dic_key)"
   ]
  },
  {
   "cell_type": "code",
   "execution_count": 64,
   "metadata": {},
   "outputs": [
    {
     "name": "stdout",
     "output_type": "stream",
     "text": [
      "['clean', 'cleaning']\n",
      "['paint', 'painting']\n",
      "['eat', 'eating']\n",
      "['enjoy', 'enjoying']\n",
      "['aspire', 'aspireing']\n",
      "['string', 'stringly']\n"
     ]
    }
   ],
   "source": [
    "Ouput_dic = {}\n",
    "for a in range(len(dic_keys)):\n",
    "    key = dic_keys[a]\n",
    "    values = list(dic_values[2*a:2*a+2])\n",
    "    print(values)\n",
    "    Ouput_dic.update({key:values})"
   ]
  },
  {
   "cell_type": "code",
   "execution_count": 65,
   "metadata": {},
   "outputs": [
    {
     "data": {
      "text/plain": [
       "{'c': ['clean', 'cleaning'],\n",
       " 'p': ['paint', 'painting'],\n",
       " 'e': ['enjoy', 'enjoying'],\n",
       " 'a': ['aspire', 'aspireing'],\n",
       " 's': ['string', 'stringly']}"
      ]
     },
     "execution_count": 65,
     "metadata": {},
     "output_type": "execute_result"
    }
   ],
   "source": [
    "Ouput_dic"
   ]
  },
  {
   "cell_type": "code",
   "execution_count": null,
   "metadata": {},
   "outputs": [],
   "source": []
  }
 ],
 "metadata": {
  "kernelspec": {
   "display_name": "Python 3",
   "language": "python",
   "name": "python3"
  },
  "language_info": {
   "codemirror_mode": {
    "name": "ipython",
    "version": 3
   },
   "file_extension": ".py",
   "mimetype": "text/x-python",
   "name": "python",
   "nbconvert_exporter": "python",
   "pygments_lexer": "ipython3",
   "version": "3.7.4"
  }
 },
 "nbformat": 4,
 "nbformat_minor": 2
}
