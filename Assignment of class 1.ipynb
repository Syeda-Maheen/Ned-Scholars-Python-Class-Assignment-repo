{
 "cells": [
  {
   "cell_type": "markdown",
   "metadata": {},
   "source": [
    "1. In the statement below, I assign a string to a variable. Using the variable, write the statement that displays the string on the screen. my_name = \"Mark\""
   ]
  },
  {
   "cell_type": "code",
   "execution_count": 2,
   "metadata": {},
   "outputs": [
    {
     "name": "stdout",
     "output_type": "stream",
     "text": [
      "My_name = Mark\n"
     ]
    }
   ],
   "source": [
    "Name = 'Mark'\n",
    "print(\"My_name =\",Name)"
   ]
  },
  {
   "cell_type": "markdown",
   "metadata": {},
   "source": [
    "2. Revise this variable name as the Python governing body recommends. countryoforigin\n"
   ]
  },
  {
   "cell_type": "code",
   "execution_count": 4,
   "metadata": {},
   "outputs": [],
   "source": [
    "# country_of_orign"
   ]
  },
  {
   "cell_type": "markdown",
   "metadata": {},
   "source": [
    "3. Add two variables and assign the result to a third variable by making up all the variable names.\n"
   ]
  },
  {
   "cell_type": "code",
   "execution_count": 7,
   "metadata": {},
   "outputs": [
    {
     "name": "stdout",
     "output_type": "stream",
     "text": [
      "50\n",
      "My name isMaheen\n"
     ]
    }
   ],
   "source": [
    "a = 20\n",
    "b = 30\n",
    "c = a + b\n",
    "print(c)\n",
    "\n",
    "# OR\n",
    "\n",
    "i = \"My name is\"\n",
    "j = \"Maheen\"\n",
    "k = i + j\n",
    "print(k)"
   ]
  },
  {
   "cell_type": "markdown",
   "metadata": {},
   "source": [
    "4. What is this : \"-8.087“.\n",
    "   Add 1.345 to it and display the result.\n"
   ]
  },
  {
   "cell_type": "code",
   "execution_count": 11,
   "metadata": {},
   "outputs": [
    {
     "name": "stdout",
     "output_type": "stream",
     "text": [
      "-8.087 is a  <class 'str'>\n",
      "-16.174\n"
     ]
    }
   ],
   "source": [
    "str_num = \"-8.087\"\n",
    "int_num = 1.345\n",
    "\n",
    "print(\"-8.087 is a \",type(str_num))\n",
    "\n",
    "str_num = float(str_num)\n",
    "\n",
    "result = str_num + str_num\n",
    "print(result)"
   ]
  },
  {
   "cell_type": "markdown",
   "metadata": {},
   "source": [
    "5. Assign a number to a variable and divide the variable by a  number of your choice. Assign the result to a variable of your choice. Display the result using that second variable.\n"
   ]
  },
  {
   "cell_type": "code",
   "execution_count": 12,
   "metadata": {},
   "outputs": [
    {
     "name": "stdout",
     "output_type": "stream",
     "text": [
      "1.0\n"
     ]
    }
   ],
   "source": [
    "a = 2\n",
    "b = a/2\n",
    "print(b)"
   ]
  },
  {
   "cell_type": "code",
   "execution_count": null,
   "metadata": {},
   "outputs": [],
   "source": []
  }
 ],
 "metadata": {
  "kernelspec": {
   "display_name": "Python 3",
   "language": "python",
   "name": "python3"
  },
  "language_info": {
   "codemirror_mode": {
    "name": "ipython",
    "version": 3
   },
   "file_extension": ".py",
   "mimetype": "text/x-python",
   "name": "python",
   "nbconvert_exporter": "python",
   "pygments_lexer": "ipython3",
   "version": "3.7.4"
  }
 },
 "nbformat": 4,
 "nbformat_minor": 2
}
